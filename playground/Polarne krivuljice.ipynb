{
 "cells": [
  {
   "cell_type": "markdown",
   "metadata": {},
   "source": [
    "# Polarne krivuljice\n",
    "\n",
    "Biranje krivulja za eksperiment za polarne krivulje"
   ]
  },
  {
   "cell_type": "code",
   "execution_count": 16,
   "metadata": {},
   "outputs": [],
   "source": [
    "import matplotlib.pyplot as plt\n",
    "import sympy as sp\n",
    "import numpy as np\n",
    "import math\n",
    "%run indeks_tezine.ipynb"
   ]
  },
  {
   "cell_type": "code",
   "execution_count": 17,
   "metadata": {},
   "outputs": [],
   "source": [
    "x = sp.Symbol(\"x\")\n",
    "y = sp.Symbol(\"y\")\n",
    "\n",
    "x_arr = np.linspace(0, 2 * math.pi, 10000)\n",
    "\n",
    "def calculate_y(function):\n",
    "    y = np.zeros(len(x_arr))\n",
    "    # get the function for plotting\n",
    "    f = sp.lambdify(x, function, \"numpy\")\n",
    "\n",
    "    for i in range(0, len(x_arr)):\n",
    "        # calculate y for each given y\n",
    "        y[i] = f(x_arr[i])\n",
    "\n",
    "    return y\n",
    "\n",
    "\n",
    "def plot_function(f):\n",
    "    y = calculate_y(f)\n",
    "    \n",
    "    idx_of_difficulty = get_idx_of_difficulty(f, 0)\n",
    "    print(\"Index of difficulty:\", idx_of_difficulty)\n",
    "    \n",
    "    fig = plt.figure()\n",
    "    graph = fig.add_subplot(111, projection=\"polar\")\n",
    "    graph.set_ylim([0, 2.5])\n",
    "    graph.set_yticks([])\n",
    "\n",
    "    graph.plot(x_arr, y) \n",
    "\n",
    "    plt.show()\n",
    "\n",
    "\n",
    "def make_sin_rosette(a, b, c):\n",
    "    return a + b * sp.sin(c * x)\n",
    "\n",
    "\n",
    "def make_spiral(a, b):\n",
    "    return a + b * x\n",
    "\n",
    "\n",
    "def make_bean(a, b, c, d):\n",
    "    return a + b * sp.sin(c * x) * sp.cos(d * x)\n",
    "\n",
    "def make_sine_gaussian(a, b, c, d, f):\n",
    "    return a * sp.exp(-(x + b)**2/c) * sp.sin(d * (x + f))\n",
    "\n",
    "def make_sinc(a, b, c):\n",
    "    return a*sp.sin(b*(x-c)) / (b*(x-c))\n",
    "\n",
    "def make_fourier(a, b, c):\n",
    "    return sp.sin(x /a) + sp.sin(x / b) + sp.cos(x / c) - 1   "
   ]
  },
  {
   "cell_type": "markdown",
   "metadata": {},
   "source": [
    "# Difficulty: Easy"
   ]
  },
  {
   "cell_type": "markdown",
   "metadata": {},
   "source": [
    "## Test 1"
   ]
  },
  {
   "cell_type": "code",
   "execution_count": 18,
   "metadata": {},
   "outputs": [
    {
     "ename": "TypeError",
     "evalue": "get_kappa() missing 1 required positional argument: 'test_index'",
     "output_type": "error",
     "traceback": [
      "\u001b[0;31m---------------------------------------------------------------------------\u001b[0m",
      "\u001b[0;31mTypeError\u001b[0m                                 Traceback (most recent call last)",
      "\u001b[0;32m<ipython-input-18-02d2de8829c2>\u001b[0m in \u001b[0;36m<module>\u001b[0;34m\u001b[0m\n\u001b[0;32m----> 1\u001b[0;31m \u001b[0mplot_function\u001b[0m\u001b[0;34m(\u001b[0m\u001b[0mmake_sin_rosette\u001b[0m\u001b[0;34m(\u001b[0m\u001b[0;36m1.8\u001b[0m\u001b[0;34m,\u001b[0m \u001b[0;36m0.3\u001b[0m\u001b[0;34m,\u001b[0m \u001b[0;36m2\u001b[0m\u001b[0;34m)\u001b[0m\u001b[0;34m)\u001b[0m\u001b[0;34m\u001b[0m\u001b[0;34m\u001b[0m\u001b[0m\n\u001b[0m\u001b[1;32m      2\u001b[0m \u001b[0mplot_function\u001b[0m\u001b[0;34m(\u001b[0m\u001b[0mmake_spiral\u001b[0m\u001b[0;34m(\u001b[0m\u001b[0;36m1.6\u001b[0m\u001b[0;34m,\u001b[0m \u001b[0;36m0.1\u001b[0m\u001b[0;34m)\u001b[0m\u001b[0;34m)\u001b[0m\u001b[0;34m\u001b[0m\u001b[0;34m\u001b[0m\u001b[0m\n",
      "\u001b[0;32m<ipython-input-17-9fb8938b0ab4>\u001b[0m in \u001b[0;36mplot_function\u001b[0;34m(f)\u001b[0m\n\u001b[1;32m     19\u001b[0m     \u001b[0my\u001b[0m \u001b[0;34m=\u001b[0m \u001b[0mcalculate_y\u001b[0m\u001b[0;34m(\u001b[0m\u001b[0mf\u001b[0m\u001b[0;34m)\u001b[0m\u001b[0;34m\u001b[0m\u001b[0;34m\u001b[0m\u001b[0m\n\u001b[1;32m     20\u001b[0m \u001b[0;34m\u001b[0m\u001b[0m\n\u001b[0;32m---> 21\u001b[0;31m     \u001b[0midx_of_difficulty\u001b[0m \u001b[0;34m=\u001b[0m \u001b[0mget_idx_of_difficulty\u001b[0m\u001b[0;34m(\u001b[0m\u001b[0mf\u001b[0m\u001b[0;34m,\u001b[0m \u001b[0;36m0\u001b[0m\u001b[0;34m)\u001b[0m\u001b[0;34m\u001b[0m\u001b[0;34m\u001b[0m\u001b[0m\n\u001b[0m\u001b[1;32m     22\u001b[0m     \u001b[0mprint\u001b[0m\u001b[0;34m(\u001b[0m\u001b[0;34m\"Index of difficulty:\"\u001b[0m\u001b[0;34m,\u001b[0m \u001b[0midx_of_difficulty\u001b[0m\u001b[0;34m)\u001b[0m\u001b[0;34m\u001b[0m\u001b[0;34m\u001b[0m\u001b[0m\n\u001b[1;32m     23\u001b[0m \u001b[0;34m\u001b[0m\u001b[0m\n",
      "\u001b[0;32m<ipython-input-16-2fa579128a79>\u001b[0m in \u001b[0;36mget_idx_of_difficulty\u001b[0;34m(function, test_index)\u001b[0m\n\u001b[1;32m     52\u001b[0m \u001b[0;34m\u001b[0m\u001b[0m\n\u001b[1;32m     53\u001b[0m \u001b[0;32mdef\u001b[0m \u001b[0mget_idx_of_difficulty\u001b[0m\u001b[0;34m(\u001b[0m\u001b[0mfunction\u001b[0m\u001b[0;34m,\u001b[0m \u001b[0mtest_index\u001b[0m\u001b[0;34m)\u001b[0m\u001b[0;34m:\u001b[0m\u001b[0;34m\u001b[0m\u001b[0;34m\u001b[0m\u001b[0m\n\u001b[0;32m---> 54\u001b[0;31m     \u001b[0mkappa\u001b[0m \u001b[0;34m=\u001b[0m \u001b[0mget_kappa\u001b[0m\u001b[0;34m(\u001b[0m\u001b[0mfunction\u001b[0m\u001b[0;34m)\u001b[0m\u001b[0;34m\u001b[0m\u001b[0;34m\u001b[0m\u001b[0m\n\u001b[0m\u001b[1;32m     55\u001b[0m     \u001b[0mlength\u001b[0m \u001b[0;34m=\u001b[0m \u001b[0mget_length\u001b[0m\u001b[0;34m(\u001b[0m\u001b[0mfunction\u001b[0m\u001b[0;34m)\u001b[0m\u001b[0;34m\u001b[0m\u001b[0;34m\u001b[0m\u001b[0m\n\u001b[1;32m     56\u001b[0m     \u001b[0;31m# because of the complex calculation revolving the curvature\u001b[0m\u001b[0;34m\u001b[0m\u001b[0;34m\u001b[0m\u001b[0;34m\u001b[0m\u001b[0m\n",
      "\u001b[0;31mTypeError\u001b[0m: get_kappa() missing 1 required positional argument: 'test_index'"
     ]
    }
   ],
   "source": [
    "plot_function(make_sin_rosette(1.8, 0.3, 2))\n",
    "plot_function(make_spiral(1.6, 0.1))"
   ]
  },
  {
   "cell_type": "markdown",
   "metadata": {},
   "source": [
    "## Test 2"
   ]
  },
  {
   "cell_type": "code",
   "execution_count": null,
   "metadata": {},
   "outputs": [],
   "source": [
    "plot_function(make_spiral(1.8, 0))\n",
    "plot_function(make_sin_rosette(1.75, -0.1, 3))"
   ]
  },
  {
   "cell_type": "markdown",
   "metadata": {},
   "source": [
    "# Difficulty: Medium"
   ]
  },
  {
   "cell_type": "markdown",
   "metadata": {},
   "source": [
    "## Test 1"
   ]
  },
  {
   "cell_type": "code",
   "execution_count": null,
   "metadata": {},
   "outputs": [],
   "source": [
    "plot_function(make_sin_rosette(1.2, -0.75, 2))\n",
    "plot_function(make_bean(1.4, -0.7, 1.5, 3.3))"
   ]
  },
  {
   "cell_type": "markdown",
   "metadata": {},
   "source": [
    "## Test 2"
   ]
  },
  {
   "cell_type": "code",
   "execution_count": null,
   "metadata": {},
   "outputs": [],
   "source": [
    "plot_function(make_bean(1.3, 0.7, 3, 1))\n",
    "plot_function(make_sin_rosette(1.2, -0.75, 2.3))"
   ]
  },
  {
   "cell_type": "markdown",
   "metadata": {},
   "source": [
    "# Difficulty: Hard"
   ]
  },
  {
   "cell_type": "markdown",
   "metadata": {},
   "source": [
    "## Test 1"
   ]
  },
  {
   "cell_type": "code",
   "execution_count": null,
   "metadata": {},
   "outputs": [],
   "source": [
    "plot_function(make_sin_rosette(1.3, -0.6, 6.1))\n",
    "plot_function(make_bean(1.4, -0.7, 5.1, 3))"
   ]
  },
  {
   "cell_type": "markdown",
   "metadata": {},
   "source": [
    "## Test 2"
   ]
  },
  {
   "cell_type": "code",
   "execution_count": null,
   "metadata": {},
   "outputs": [],
   "source": [
    "plot_function(make_sin_rosette(1.3, -0.7, 5.1))\n",
    "plot_function(make_bean(1.4, -0.75, 3.1, -5))"
   ]
  },
  {
   "cell_type": "code",
   "execution_count": null,
   "metadata": {},
   "outputs": [],
   "source": [
    "x1 = math.pi / 2 #phi\n",
    "y1 = 1\n",
    "\n",
    "x2 = math.pi\n",
    "y2 = 1\n",
    "\n",
    "x1 = -0.007215007215007012\n",
    "y1 = 1.8001443001443 \n",
    "x2 = 1.1022704775875347e-16\n",
    "y2 = 1.8001443001443\n",
    "\n",
    "phi1 = x1\n",
    "r1 = y1\n",
    "phi2 = x2\n",
    "r2 = y2\n",
    "\n",
    "tmp_x1, tmp_y1 = (y1 * np.cos(x1), y1 * np.sin(x1))\n",
    "tmp_x2, tmp_y2 = (y2 * np.cos(x2), y2 * np.sin(x2))\n",
    "\n",
    "f = (tmp_y2 - tmp_y1) / (tmp_x2 - tmp_x1) * (x - tmp_x1) + tmp_y1\n",
    "print(\"Funkcija linije:\", f)\n",
    "f = sp.lambdify(x, f)\n",
    "tmp = calculate_riemann_integral(f, tmp_x1, tmp_x2, 10)\n",
    "print(\"integral:\", tmp)\n",
    "\n",
    "r = f(0) / (sp.sin(x) - (f(1) - f(0)) * sp.cos(x))\n",
    "print(\"Funkcija linije u polarnom sustavu:\", r)\n",
    "plt.figure()\n",
    "plt.polar([phi1, phi2], [r1, r2])\n",
    "plt.show()\n",
    "\n",
    "plt.figure()\n",
    "plt.polar(x_arr, calculate_y(r))\n",
    "plt.ylim([0, 1])\n",
    "plt.show()\n",
    "\n",
    "r = 0.5 * r**2\n",
    "r = sp.lambdify(x, r, \"numpy\")\n",
    "\n",
    "# calculate integral of surface\n",
    "tmp = calculate_riemann_integral(r, x1, x2, 1000)\n",
    "print(\"integral:\", tmp)"
   ]
  },
  {
   "cell_type": "code",
   "execution_count": null,
   "metadata": {},
   "outputs": [],
   "source": [
    "def is_cartesian(projection):\n",
    "    return False\n",
    "\n",
    "projection = 1\n",
    "x1 = 1.5748043213653204\n",
    "y1 = 1.8001587590185273 \n",
    "x2 = 1.5707963267948966\n",
    "y2 = 1.8001443001443\n",
    "\n",
    "x1 = 1.5707963267948966 \n",
    "y1 = 1.8073593073593068\n",
    "x2 = 1.5668043320324738\n",
    "y2 = 1.8073737085139383\n",
    "     \n",
    "(x1, y1, x2, y2)  = ( 0.03196585199768709 , 1.2416155380885812 ,    6.274988769429673 , 1.3203906741538933 )\n",
    "\"\"\"\n",
    "# dobar\n",
    "x1 = 5.75826480059187\n",
    "y1 = 1.317331697553854     \n",
    "x2 = 5.757785159923143\n",
    "y2 = 1.3593971609690396\n",
    "\n",
    "x1 = 6.275290734349426\n",
    "y1 = 1.3708940906231912\n",
    "x2 = 0.002631572872649812\n",
    "y2 = 1.3708561175584262\n",
    "\"\"\"\n",
    "\n",
    "\n",
    "while(x1 < 0):\n",
    "    x1 += 2 * math.pi\n",
    "\n",
    "while(x2 < 0):\n",
    "    x2 += 2 * math.pi\n",
    "\n",
    "epsilon = 0.00\n",
    "\n",
    "plt.figure()\n",
    "plt.polar([x1, x2], [y1, y2])\n",
    "plt.ylim([y1 - epsilon, y2 + epsilon])\n",
    "plt.show()\n",
    "\n",
    "if(is_cartesian(projection) is False):\n",
    "    x1, y1 = (y1 * np.cos(x1), y1 * np.sin(x1))\n",
    "    x2, y2 = (y2 * np.cos(x2), y2 * np.sin(x2))\n",
    "\n",
    "plt.figure()\n",
    "plt.plot([x1, x2], [y1, y2])\n",
    "plt.show()\n",
    "    \n",
    "    \n",
    "if(abs(x2 - x1) < 0.001):\n",
    "    pass\n",
    "\n",
    "k = 0\n",
    "try:\n",
    "    k = (y2 - y1) / (x2 - x1)\n",
    "except:\n",
    "    pass\n",
    "print(\"K:\", k)\n",
    "\n",
    "f = k * (x - x1) + y1\n",
    "# get the equation of the line on which point1 and point2 lay\n",
    "if(is_cartesian(projection) is False):\n",
    "    f = sp.lambdify(x, f, \"numpy\")\n",
    "    f = f(0) / (sp.sin(x) - (f(1) - f(0)) * sp.cos(x))\n",
    "    f = 0.5 * f**2\n",
    "    \n",
    "    # convert integration coordinates back to polar\n",
    "    y1, x1 = (np.sqrt(x1 ** 2 + y1 ** 2), np.arctan(y1 / x1))\n",
    "    y2, x2 = (np.sqrt(x2 ** 2 + y2 ** 2), np.arctan(y2 / x2))\n",
    "    print(x1, y1, x2, y2)\n",
    "print(f)\n",
    "f = sp.lambdify(x, f, \"numpy\")\n",
    "\n",
    "# calculate integral of surface\n",
    "tmp = calculate_riemann_integral(f, tmp_x1, tmp_x2, 10)\n",
    "print(\": Integral: \", tmp, ' :: ', x1, y1, ', ', x2, y2)"
   ]
  },
  {
   "cell_type": "code",
   "execution_count": null,
   "metadata": {},
   "outputs": [],
   "source": []
  }
 ],
 "metadata": {
  "kernelspec": {
   "display_name": "Python 3",
   "language": "python",
   "name": "python3"
  },
  "language_info": {
   "codemirror_mode": {
    "name": "ipython",
    "version": 3
   },
   "file_extension": ".py",
   "mimetype": "text/x-python",
   "name": "python",
   "nbconvert_exporter": "python",
   "pygments_lexer": "ipython3",
   "version": "3.8.6"
  }
 },
 "nbformat": 4,
 "nbformat_minor": 4
}
