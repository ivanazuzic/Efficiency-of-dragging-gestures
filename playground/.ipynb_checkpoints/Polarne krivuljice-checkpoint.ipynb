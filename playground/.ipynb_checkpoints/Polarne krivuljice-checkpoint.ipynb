{
 "cells": [
  {
   "cell_type": "markdown",
   "metadata": {},
   "source": [
    "# Polarne krivuljice\n",
    "\n",
    "Biranje krivulja za eksperiment za polarne krivulje"
   ]
  },
  {
   "cell_type": "code",
   "execution_count": 68,
   "metadata": {},
   "outputs": [],
   "source": [
    "import matplotlib.pyplot as plt\n",
    "import sympy as sp\n",
    "import numpy as np\n",
    "import math"
   ]
  },
  {
   "cell_type": "code",
   "execution_count": 70,
   "metadata": {},
   "outputs": [],
   "source": [
    "x = sp.Symbol(\"x\")\n",
    "y = sp.Symbol(\"y\")\n",
    "\n",
    "x_arr = np.linspace(0, 2 * math.pi, 10000)\n",
    "\n",
    "def calculate_riemann_integral(f, x0, x1, numpoints = 1000):\n",
    "    integral_approx = 0\n",
    "    # distance between two points (will be very small)\n",
    "    delta = (x1 - x0) / numpoints\n",
    "    i = 0\n",
    "    while x0 < x1:\n",
    "        # put integral_approx calculation inside try-except\n",
    "        # in case we get \"division by zero\" exception.\n",
    "        if(i % (numpoints / 10) == 0):\n",
    "            # this condition is meant to represent a \"loading bar\"\n",
    "            # it will print the current percentage of points processed\n",
    "            # print(round(x0 / x1, 3) * 100, \"%  done\")\n",
    "            pass\n",
    "        try:\n",
    "            # Riemann sum\n",
    "            print(\"adding \", f(x0), ' * ', delta)\n",
    "            integral_approx += abs(f(x0) * delta)\n",
    "        except Exception as e:\n",
    "            # this might, on very rare occassions, be\n",
    "            # \"division by zero\"\n",
    "            print(e)\n",
    "        finally:\n",
    "            x0 += delta\n",
    "            i += 1\n",
    "    return integral_approx\n",
    "\n",
    "\n",
    "def get_kappa(f):\n",
    "    fder = f.diff(x)\n",
    "    fderder = fder.diff(x)\n",
    "\n",
    "    # kappa for polar coordinates\n",
    "    kappa = abs(f**2 + 2 * fder**2 - f * fderder) / ((fder**2 + f**2) ** (3 / 2)) + 1\n",
    "    \n",
    "    y = calculate_y(kappa)\n",
    "    return kappa\n",
    "\n",
    "    \n",
    "def get_idx_of_difficulty(function):\n",
    "    kappa = get_kappa(function)\n",
    "    # because of the complex calculation revolving the curvature\n",
    "    # (kappa), we instead calculate its approximation\n",
    "    # by summing up y values for each x0 in such a way that\n",
    "    # the distance between two x0 points is infinitely small\n",
    "\n",
    "    # if coordinates are polar, then we sum up phi values from 0 to 2pi\n",
    "    x0 = 0\n",
    "    x1 = 2 * math.pi\n",
    "    kappa = sp.lambdify(x, kappa, \"numpy\")\n",
    "\n",
    "    integral_approx = calculate_riemann_integral(kappa, x0, x1, 1000)\n",
    "    return integral_approx\n",
    "\n",
    "\n",
    "def calculate_y(function):\n",
    "    y = np.zeros(len(x_arr))\n",
    "    # get the function for plotting\n",
    "    f = sp.lambdify(x, function, \"numpy\")\n",
    "\n",
    "    for i in range(0, len(x_arr)):\n",
    "        # calculate y for each given y\n",
    "        y[i] = f(x_arr[i])\n",
    "\n",
    "    return y\n",
    "\n",
    "\n",
    "def plot_function(f):\n",
    "    y = calculate_y(f)\n",
    "    \n",
    "    idx_of_difficulty = get_idx_of_difficulty(f)\n",
    "    print(\"Index of difficulty:\", idx_of_difficulty)\n",
    "    \n",
    "    fig = plt.figure()\n",
    "    graph = fig.add_subplot(111, projection=\"polar\")\n",
    "    graph.set_ylim([0, 2.5])\n",
    "    graph.set_yticks([])\n",
    "\n",
    "    graph.plot(x_arr, y) \n",
    "\n",
    "    plt.show()\n",
    "\n",
    "\n",
    "def make_sin_rosette(a, b, c):\n",
    "    return a + b * sp.sin(c * x)\n",
    "\n",
    "\n",
    "def make_spiral(a, b):\n",
    "    return a + b * x\n",
    "\n",
    "\n",
    "def make_bean(a, b, c, d):\n",
    "    return a + b * sp.sin(c * x) * sp.cos(d * x)\n",
    "\n",
    "def make_sine_gaussian(a, b, c, d, f):\n",
    "    return a * sp.exp(-(x + b)**2/c) * sp.sin(d * (x + f))\n",
    "\n",
    "def make_sinc(a, b, c):\n",
    "    return a*sp.sin(b*(x-c)) / (b*(x-c))\n",
    "\n",
    "def make_fourier(a, b, c):\n",
    "    return sp.sin(x /a) + sp.sin(x / b) + sp.cos(x / c) - 1   "
   ]
  },
  {
   "cell_type": "markdown",
   "metadata": {},
   "source": [
    "# Difficulty: Easy"
   ]
  },
  {
   "cell_type": "markdown",
   "metadata": {},
   "source": [
    "## Test 1"
   ]
  },
  {
   "cell_type": "code",
   "execution_count": null,
   "metadata": {},
   "outputs": [],
   "source": [
    "plot_function(make_sin_rosette(1.8, 0.3, 2))\n",
    "plot_function(make_spiral(1.6, 0.1))"
   ]
  },
  {
   "cell_type": "markdown",
   "metadata": {},
   "source": [
    "## Test 2"
   ]
  },
  {
   "cell_type": "code",
   "execution_count": null,
   "metadata": {},
   "outputs": [],
   "source": [
    "plot_function(make_spiral(1.8, 0))\n",
    "plot_function(make_sin_rosette(1.75, -0.1, 3))"
   ]
  },
  {
   "cell_type": "markdown",
   "metadata": {},
   "source": [
    "# Difficulty: Medium"
   ]
  },
  {
   "cell_type": "markdown",
   "metadata": {},
   "source": [
    "## Test 1"
   ]
  },
  {
   "cell_type": "code",
   "execution_count": null,
   "metadata": {},
   "outputs": [],
   "source": [
    "plot_function(make_sin_rosette(1.2, -0.75, 2))\n",
    "plot_function(make_bean(1.4, -0.7, 1.5, 3.3))"
   ]
  },
  {
   "cell_type": "markdown",
   "metadata": {},
   "source": [
    "## Test 2"
   ]
  },
  {
   "cell_type": "code",
   "execution_count": null,
   "metadata": {},
   "outputs": [],
   "source": [
    "plot_function(make_bean(1.3, 0.7, 3, 1))\n",
    "plot_function(make_sin_rosette(1.2, -0.75, 2.3))"
   ]
  },
  {
   "cell_type": "markdown",
   "metadata": {},
   "source": [
    "# Difficulty: Hard"
   ]
  },
  {
   "cell_type": "markdown",
   "metadata": {},
   "source": [
    "## Test 1"
   ]
  },
  {
   "cell_type": "code",
   "execution_count": null,
   "metadata": {},
   "outputs": [],
   "source": [
    "plot_function(make_sin_rosette(1.3, -0.6, 6.1))\n",
    "plot_function(make_bean(1.4, -0.7, 5.1, 3))"
   ]
  },
  {
   "cell_type": "markdown",
   "metadata": {},
   "source": [
    "## Test 2"
   ]
  },
  {
   "cell_type": "code",
   "execution_count": null,
   "metadata": {},
   "outputs": [],
   "source": [
    "plot_function(make_sin_rosette(1.3, -0.7, 5.1))\n",
    "plot_function(make_bean(1.4, -0.75, 3.1, -5))"
   ]
  },
  {
   "cell_type": "code",
   "execution_count": null,
   "metadata": {},
   "outputs": [],
   "source": [
    "x1 = math.pi / 2 #phi\n",
    "y1 = 1\n",
    "\n",
    "x2 = math.pi\n",
    "y2 = 1\n",
    "\n",
    "x1 = -0.007215007215007012\n",
    "y1 = 1.8001443001443 \n",
    "x2 = 1.1022704775875347e-16\n",
    "y2 = 1.8001443001443\n",
    "\n",
    "phi1 = x1\n",
    "r1 = y1\n",
    "phi2 = x2\n",
    "r2 = y2\n",
    "\n",
    "tmp_x1, tmp_y1 = (y1 * np.cos(x1), y1 * np.sin(x1))\n",
    "tmp_x2, tmp_y2 = (y2 * np.cos(x2), y2 * np.sin(x2))\n",
    "\n",
    "f = (tmp_y2 - tmp_y1) / (tmp_x2 - tmp_x1) * (x - tmp_x1) + tmp_y1\n",
    "print(\"Funkcija linije:\", f)\n",
    "f = sp.lambdify(x, f)\n",
    "tmp = calculate_riemann_integral(f, tmp_x1, tmp_x2, 10)\n",
    "print(\"integral:\", tmp)\n",
    "\n",
    "r = f(0) / (sp.sin(x) - (f(1) - f(0)) * sp.cos(x))\n",
    "print(\"Funkcija linije u polarnom sustavu:\", r)\n",
    "plt.figure()\n",
    "plt.polar([phi1, phi2], [r1, r2])\n",
    "plt.show()\n",
    "\n",
    "plt.figure()\n",
    "plt.polar(x_arr, calculate_y(r))\n",
    "plt.ylim([0, 1])\n",
    "plt.show()\n",
    "\n",
    "r = 0.5 * r**2\n",
    "r = sp.lambdify(x, r, \"numpy\")\n",
    "\n",
    "# calculate integral of surface\n",
    "tmp = calculate_riemann_integral(r, x1, x2, 1000)\n",
    "print(\"integral:\", tmp)"
   ]
  },
  {
   "cell_type": "code",
   "execution_count": 72,
   "metadata": {},
   "outputs": [
    {
     "data": {
      "image/png": "[encoded data removed]",
      "text/plain": [
       "<Figure size 432x288 with 1 Axes>"
      ]
     },
     "metadata": {
      "needs_background": "light"
     },
     "output_type": "display_data"
    },
    {
     "data": {
      "image/png": "[encoded data removed]",
      "text/plain": [
       "<Figure size 432x288 with 1 Axes>"
      ]
     },
     "metadata": {
      "needs_background": "light"
     },
     "output_type": "display_data"
    },
    {
     "name": "stdout",
     "output_type": "stream",
     "text": [
      "1.63327383294916/(sin(x) - 3.08642000845794e-14*cos(x))**2\n",
      "adding  1.7269072919524053e+27  *  0.0007215007215006729\n",
      "adding  3137513.0446925643  *  0.0007215007215006729\n",
      "adding  784378.6694583782  *  0.0007215007215006729\n",
      "adding  348613.0444350749  *  0.0007215007215006729\n",
      "adding  196095.07567972384  *  0.0007215007215006729\n",
      "adding  125501.04442818489  *  0.0007215007215006729\n",
      "adding  87153.6694279017  *  0.0007215007215006729\n",
      "adding  64031.411775115695  *  0.0007215007215006729\n",
      "adding  49024.17724126769  *  0.0007215007215006729\n",
      "adding  38735.2666517966  *  0.0007215007215006729\n",
      ": Integral:  1.2459648571084337e+24  ::  1.1066883953333763e-16 1.8073593073593068 ,  0.00721500721500684 1.807359307359307\n"
     ]
    }
   ],
   "source": [
    "def is_cartesian(projection):\n",
    "    return False\n",
    "\n",
    "projection = 1\n",
    "x1 = 1.5748043213653204\n",
    "y1 =  1.8001587590185273 \n",
    "x2 = 1.5707963267948966\n",
    "y2 = 1.8001443001443\n",
    "\n",
    "x1 = 1.5707963267948966 \n",
    "y1 = 1.8073593073593068\n",
    "x2 = 1.5668043320324738\n",
    "y2 = 1.8073737085139383\n",
    "\n",
    "x1 = 5.75826480059187\n",
    "y1 = 1.317331697553854     \n",
    "x2 = 5.757785159923143\n",
    "y2 = 1.3593971609690396\n",
    "\n",
    "plt.figure()\n",
    "plt.plot([x1, x2], [y1, y2])\n",
    "plt.xlim([1.5, 1.6])\n",
    "plt.show()\n",
    "\n",
    "if(is_cartesian(projection) is False):\n",
    "    x1, y1 = (y1 * np.cos(x1), y1 * np.sin(x1))\n",
    "    x2, y2 = (y2 * np.cos(x2), y2 * np.sin(x2))\n",
    "\n",
    "plt.figure()\n",
    "plt.polar([x1, x2], [y1, y2])\n",
    "plt.show()\n",
    "\n",
    "while(x1 < 0):\n",
    "    x1 += 2 * math.pi\n",
    "\n",
    "while(x2 < 0):\n",
    "    x2 += 2 * math.pi\n",
    "    \n",
    "    \n",
    "if(abs(x2 - x1) < 0.001):\n",
    "    pass\n",
    "\n",
    "k = 0\n",
    "try:\n",
    "    k = (y2 - y1) / (x2 - x1)\n",
    "except:\n",
    "    pass\n",
    "\n",
    "f = k * (x - x1) + y1\n",
    "# get the equation of the line on which point1 and point2 lay\n",
    "if(is_cartesian(projection) is False):\n",
    "    f = sp.lambdify(x, f, \"numpy\")\n",
    "    f = f(0) / (sp.sin(x) - (f(1) - f(0)) * sp.cos(x))\n",
    "    f = 0.5 * f**2\n",
    "    # print(\"Polar function: \", f)\n",
    "print(f)\n",
    "f = sp.lambdify(x, f, \"numpy\")\n",
    "\n",
    "# calculate integral of surface\n",
    "tmp = calculate_riemann_integral(f, x1, x2, 10)\n",
    "print(\": Integral: \", tmp, ' :: ', x1, y1, ', ', x2, y2)"
   ]
  },
  {
   "cell_type": "code",
   "execution_count": null,
   "metadata": {},
   "outputs": [],
   "source": []
  }
 ],
 "metadata": {
  "kernelspec": {
   "display_name": "Python 3",
   "language": "python",
   "name": "python3"
  },
  "language_info": {
   "codemirror_mode": {
    "name": "ipython",
    "version": 3
   },
   "file_extension": ".py",
   "mimetype": "text/x-python",
   "name": "python",
   "nbconvert_exporter": "python",
   "pygments_lexer": "ipython3",
   "version": "3.8.5"
  }
 },
 "nbformat": 4,
 "nbformat_minor": 4
}
