{
 "cells": [
  {
   "cell_type": "code",
   "execution_count": 19,
   "metadata": {},
   "outputs": [],
   "source": [
    "import matplotlib.pyplot as plt\n",
    "import sympy as sp\n",
    "import numpy as np\n",
    "import math\n",
    "%run indeks_tezine.ipynb"
   ]
  },
  {
   "cell_type": "code",
   "execution_count": 20,
   "metadata": {},
   "outputs": [],
   "source": [
    "x = sp.Symbol(\"x\")\n",
    "\n",
    "x_arr = np.linspace(0, 2 * math.pi, 10000)\n",
    "\n",
    "def calculate_y(function):\n",
    "    y = np.zeros(len(x_arr))\n",
    "    # get the function for plotting\n",
    "    f = sp.lambdify(x, function, \"numpy\")\n",
    "\n",
    "    for i in range(0, len(x_arr)):\n",
    "        # calculate y for each given y\n",
    "        y[i] = f(x_arr[i])\n",
    "\n",
    "    return y\n",
    "\n",
    "\n",
    "def plot_function(f):\n",
    "    y = calculate_y(f)\n",
    "    \n",
    "    idx_of_difficulty = get_idx_of_difficulty(f, 0)\n",
    "    print(\"Index of difficulty:\", idx_of_difficulty)\n",
    "    \n",
    "    fig = plt.figure()\n",
    "    # init cartesian graph\n",
    "    x_range = {\n",
    "        # start point and end point on which f(x) is defined\n",
    "        \"start\": 0,\n",
    "        \"end\": 2 * math.pi,\n",
    "    }\n",
    "    graph = fig.add_subplot(111)\n",
    "    # limiting the x axis range\n",
    "    # but only if coordinates are Cartesian\n",
    "    graph.set_xlim([\n",
    "        x_range[\"start\"] - (x_range[\"end\"] - x_range[\"start\"]) / 6,\n",
    "        x_range[\"end\"] + (x_range[\"end\"] - x_range[\"start\"]) / 6\n",
    "    ])\n",
    "    # limiting the y axis range\n",
    "    graph.set_ylim([0, 2.5])\n",
    "    graph.plot(x_arr, y) \n",
    "\n",
    "    plt.show()\n",
    "    \n",
    "def make_sine_gaussian(a, b, c, d, f):\n",
    "    return a * sp.exp(-(x + b)**2/c) * sp.sin(d * (x + f))\n",
    "\n",
    "def make_sinc(a, b, c):\n",
    "    return a*sp.sin(b*(x-c)) / (b*(x-c))\n",
    "\n",
    "def make_fourier(a, b, c, d = 1):\n",
    "    return (sp.sin(x /a) + sp.sin(x / b) + sp.cos(x / c)) * d + 1.25  "
   ]
  },
  {
   "cell_type": "markdown",
   "metadata": {},
   "source": [
    "# Difficulty: Easy"
   ]
  },
  {
   "cell_type": "markdown",
   "metadata": {},
   "source": [
    "## Test 1"
   ]
  },
  {
   "cell_type": "code",
   "execution_count": 21,
   "metadata": {},
   "outputs": [
    {
     "ename": "TypeError",
     "evalue": "get_kappa() missing 1 required positional argument: 'test_index'",
     "output_type": "error",
     "traceback": [
      "\u001b[0;31m---------------------------------------------------------------------------\u001b[0m",
      "\u001b[0;31mTypeError\u001b[0m                                 Traceback (most recent call last)",
      "\u001b[0;32m<ipython-input-21-5fb7621decc1>\u001b[0m in \u001b[0;36m<module>\u001b[0;34m\u001b[0m\n\u001b[0;32m----> 1\u001b[0;31m \u001b[0mplot_function\u001b[0m\u001b[0;34m(\u001b[0m\u001b[0;36m0.2\u001b[0m \u001b[0;34m*\u001b[0m \u001b[0;34m(\u001b[0m\u001b[0mx\u001b[0m \u001b[0;34m+\u001b[0m \u001b[0;36m1.5\u001b[0m\u001b[0;34m)\u001b[0m\u001b[0;34m)\u001b[0m\u001b[0;34m\u001b[0m\u001b[0;34m\u001b[0m\u001b[0m\n\u001b[0m\u001b[1;32m      2\u001b[0m \u001b[0mplot_function\u001b[0m\u001b[0;34m(\u001b[0m\u001b[0;34m(\u001b[0m\u001b[0msp\u001b[0m\u001b[0;34m.\u001b[0m\u001b[0mexp\u001b[0m\u001b[0;34m(\u001b[0m\u001b[0;34m-\u001b[0m\u001b[0mx\u001b[0m \u001b[0;34m+\u001b[0m \u001b[0;36m5\u001b[0m\u001b[0;34m)\u001b[0m \u001b[0;34m+\u001b[0m \u001b[0msp\u001b[0m\u001b[0;34m.\u001b[0m\u001b[0mexp\u001b[0m\u001b[0;34m(\u001b[0m\u001b[0mx\u001b[0m\u001b[0;34m)\u001b[0m\u001b[0;34m)\u001b[0m \u001b[0;34m/\u001b[0m \u001b[0;36m2\u001b[0m\u001b[0;34m**\u001b[0m\u001b[0;36m8\u001b[0m \u001b[0;34m+\u001b[0m \u001b[0;36m0.2\u001b[0m\u001b[0;34m)\u001b[0m\u001b[0;34m\u001b[0m\u001b[0;34m\u001b[0m\u001b[0m\n",
      "\u001b[0;32m<ipython-input-20-b9ea7dca0c34>\u001b[0m in \u001b[0;36mplot_function\u001b[0;34m(f)\u001b[0m\n\u001b[1;32m     18\u001b[0m     \u001b[0my\u001b[0m \u001b[0;34m=\u001b[0m \u001b[0mcalculate_y\u001b[0m\u001b[0;34m(\u001b[0m\u001b[0mf\u001b[0m\u001b[0;34m)\u001b[0m\u001b[0;34m\u001b[0m\u001b[0;34m\u001b[0m\u001b[0m\n\u001b[1;32m     19\u001b[0m \u001b[0;34m\u001b[0m\u001b[0m\n\u001b[0;32m---> 20\u001b[0;31m     \u001b[0midx_of_difficulty\u001b[0m \u001b[0;34m=\u001b[0m \u001b[0mget_idx_of_difficulty\u001b[0m\u001b[0;34m(\u001b[0m\u001b[0mf\u001b[0m\u001b[0;34m,\u001b[0m \u001b[0;36m0\u001b[0m\u001b[0;34m)\u001b[0m\u001b[0;34m\u001b[0m\u001b[0;34m\u001b[0m\u001b[0m\n\u001b[0m\u001b[1;32m     21\u001b[0m     \u001b[0mprint\u001b[0m\u001b[0;34m(\u001b[0m\u001b[0;34m\"Index of difficulty:\"\u001b[0m\u001b[0;34m,\u001b[0m \u001b[0midx_of_difficulty\u001b[0m\u001b[0;34m)\u001b[0m\u001b[0;34m\u001b[0m\u001b[0;34m\u001b[0m\u001b[0m\n\u001b[1;32m     22\u001b[0m \u001b[0;34m\u001b[0m\u001b[0m\n",
      "\u001b[0;32m<ipython-input-19-2fa579128a79>\u001b[0m in \u001b[0;36mget_idx_of_difficulty\u001b[0;34m(function, test_index)\u001b[0m\n\u001b[1;32m     52\u001b[0m \u001b[0;34m\u001b[0m\u001b[0m\n\u001b[1;32m     53\u001b[0m \u001b[0;32mdef\u001b[0m \u001b[0mget_idx_of_difficulty\u001b[0m\u001b[0;34m(\u001b[0m\u001b[0mfunction\u001b[0m\u001b[0;34m,\u001b[0m \u001b[0mtest_index\u001b[0m\u001b[0;34m)\u001b[0m\u001b[0;34m:\u001b[0m\u001b[0;34m\u001b[0m\u001b[0;34m\u001b[0m\u001b[0m\n\u001b[0;32m---> 54\u001b[0;31m     \u001b[0mkappa\u001b[0m \u001b[0;34m=\u001b[0m \u001b[0mget_kappa\u001b[0m\u001b[0;34m(\u001b[0m\u001b[0mfunction\u001b[0m\u001b[0;34m)\u001b[0m\u001b[0;34m\u001b[0m\u001b[0;34m\u001b[0m\u001b[0m\n\u001b[0m\u001b[1;32m     55\u001b[0m     \u001b[0mlength\u001b[0m \u001b[0;34m=\u001b[0m \u001b[0mget_length\u001b[0m\u001b[0;34m(\u001b[0m\u001b[0mfunction\u001b[0m\u001b[0;34m)\u001b[0m\u001b[0;34m\u001b[0m\u001b[0;34m\u001b[0m\u001b[0m\n\u001b[1;32m     56\u001b[0m     \u001b[0;31m# because of the complex calculation revolving the curvature\u001b[0m\u001b[0;34m\u001b[0m\u001b[0;34m\u001b[0m\u001b[0;34m\u001b[0m\u001b[0m\n",
      "\u001b[0;31mTypeError\u001b[0m: get_kappa() missing 1 required positional argument: 'test_index'"
     ]
    }
   ],
   "source": [
    "plot_function(0.2 * (x + 1.5))\n",
    "plot_function((sp.exp(-x + 5) + sp.exp(x)) / 2**8 + 0.2)"
   ]
  },
  {
   "cell_type": "markdown",
   "metadata": {},
   "source": [
    "## Test 2"
   ]
  },
  {
   "cell_type": "code",
   "execution_count": null,
   "metadata": {},
   "outputs": [],
   "source": [
    "plot_function(sp.sqrt(x + 0.001) / 1.2 + 0.2)\n",
    "plot_function(-0.2 * (x) + 1.5)"
   ]
  },
  {
   "cell_type": "markdown",
   "metadata": {},
   "source": [
    "# Difficulty: Medium"
   ]
  },
  {
   "cell_type": "markdown",
   "metadata": {},
   "source": [
    "## Test 1"
   ]
  },
  {
   "cell_type": "code",
   "execution_count": null,
   "metadata": {},
   "outputs": [],
   "source": [
    "plot_function(sp.sin(2.5*x) * 0.75 + 1.25)\n",
    "plot_function(make_sine_gaussian(-1, -3, 1.7, 5, 5) + 1.25)"
   ]
  },
  {
   "cell_type": "markdown",
   "metadata": {},
   "source": [
    "## Test 2"
   ]
  },
  {
   "cell_type": "code",
   "execution_count": null,
   "metadata": {},
   "outputs": [],
   "source": [
    "plot_function(make_sine_gaussian(1, -2, 2, 4, 50) + 1.25)\n",
    "plot_function(make_fourier(0.25, 0.6, 2, -0.3))"
   ]
  },
  {
   "cell_type": "markdown",
   "metadata": {},
   "source": [
    "# Difficulty: Hard"
   ]
  },
  {
   "cell_type": "markdown",
   "metadata": {},
   "source": [
    "## Test 1"
   ]
  },
  {
   "cell_type": "code",
   "execution_count": null,
   "metadata": {},
   "outputs": [],
   "source": [
    "plot_function(make_fourier(0.29, 1.5, 0.15, 0.3))\n",
    "plot_function(make_sine_gaussian(1, -2.5, 3, 6, 2.5) + 1.25)"
   ]
  },
  {
   "cell_type": "markdown",
   "metadata": {},
   "source": [
    "## Test 2"
   ]
  },
  {
   "cell_type": "code",
   "execution_count": null,
   "metadata": {},
   "outputs": [],
   "source": [
    "plot_function(make_sinc(12, 6, 8.3) + 1.25)\n",
    "plot_function(make_fourier(-0.17, -0.5, -1.5, 0.35))"
   ]
  },
  {
   "cell_type": "code",
   "execution_count": null,
   "metadata": {},
   "outputs": [],
   "source": []
  }
 ],
 "metadata": {
  "kernelspec": {
   "display_name": "Python 3",
   "language": "python",
   "name": "python3"
  },
  "language_info": {
   "codemirror_mode": {
    "name": "ipython",
    "version": 3
   },
   "file_extension": ".py",
   "mimetype": "text/x-python",
   "name": "python",
   "nbconvert_exporter": "python",
   "pygments_lexer": "ipython3",
   "version": "3.8.6"
  }
 },
 "nbformat": 4,
 "nbformat_minor": 4
}
