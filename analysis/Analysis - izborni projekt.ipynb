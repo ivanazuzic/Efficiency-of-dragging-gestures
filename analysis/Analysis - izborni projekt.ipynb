{
 "cells": [
  {
   "cell_type": "markdown",
   "metadata": {},
   "source": [
    "# Dragging gestures: Analysis"
   ]
  },
  {
   "cell_type": "code",
   "execution_count": 69,
   "metadata": {},
   "outputs": [],
   "source": [
    "import numpy as np\n",
    "from sklearn.linear_model import LinearRegression\n",
    "import pandas as pd\n",
    "import matplotlib.pyplot as plt"
   ]
  },
  {
   "cell_type": "code",
   "execution_count": 103,
   "metadata": {},
   "outputs": [
    {
     "name": "stdout",
     "output_type": "stream",
     "text": [
      "Columns: Index(['Participant name', 'Participant age', 'Device', 'Test mode',\n",
      "       'Logging timestamp', 'Function ID', 'Function difficulty',\n",
      "       'Function projection', 'Drawing time', 'Error approx', 'Is Left handed',\n",
      "       'Experienced Graphic Tablet User'],\n",
      "      dtype='object')\n"
     ]
    }
   ],
   "source": [
    "df = pd.read_csv('logs.csv')\n",
    "\n",
    "print(\"Columns:\", df.columns)\n",
    "# indices of important columns\n",
    "prAgeInd = 1\n",
    "deviceInd = 2\n",
    "testModeInd = 3\n",
    "funcIdInd = 5\n",
    "funcDiffInd = 6\n",
    "funcProjInd = 7\n",
    "drawTimeInd = 8\n",
    "\n",
    "test0data = df[df['Test mode'] == 0]\n",
    "test1data = df[df['Test mode'] == 1]\n",
    "\n",
    "projections = ['Cartesian', 'Polar']\n",
    "funcIds = [0, 1, 2, 3, 4, 5]\n",
    "devices = ['Mouse', 'Graphic tablet']\n",
    "testModes = [0, 1]"
   ]
  },
  {
   "cell_type": "markdown",
   "metadata": {},
   "source": [
    "## Participant data"
   ]
  },
  {
   "cell_type": "code",
   "execution_count": 74,
   "metadata": {},
   "outputs": [
    {
     "name": "stdout",
     "output_type": "stream",
     "text": [
      "Number of participants: 9\n",
      "Average participant age: 23.111\n",
      "\n",
      " ::::\n",
      "Number of left handed participants: 1\n",
      "Percentage of left handed participants 0.111 %\n",
      "\n",
      " ::::\n",
      "Number of expert graphic tablet participants: 2\n",
      "Percentage of expert graphic tablet participants 0.222 %\n"
     ]
    },
    {
     "data": {
      "image/png": "[encoded data removed]",
      "text/plain": [
       "<Figure size 432x288 with 1 Axes>"
      ]
     },
     "metadata": {
      "needs_background": "light"
     },
     "output_type": "display_data"
    }
   ],
   "source": [
    "participants = list(set(test0data['Participant name']))\n",
    "\n",
    "print(\"Number of participants:\", len(participants))\n",
    "\n",
    "ages = []\n",
    "leftHanded = 0\n",
    "hasExpWTablet = 0\n",
    "for participant in participants:\n",
    "    row = df[df['Participant name'] == participant]\n",
    "    age = row['Participant age'].values[0]\n",
    "    leftHanded += row['Is Left handed'].values[0]\n",
    "    hasExpWTablet += row['Experienced Graphic Tablet User'].values[0]\n",
    "    # print(participant, age)\n",
    "    ages.append(age)\n",
    "\n",
    "plt.figure()\n",
    "plt.hist(ages)\n",
    "plt.ylabel(\"Count\")\n",
    "plt.xlabel(\"Age\")\n",
    "plt.title(\"Participants' age\")\n",
    "plt.plot\n",
    "print(\"Average participant age:\", round(np.mean(ages), 3))\n",
    "\n",
    "print(\"\\n ::::\")\n",
    "print(\"Number of left handed participants:\", leftHanded)\n",
    "print(\"Percentage of left handed participants\", round(leftHanded * 1.0 / len(participants), 3), '%')\n",
    "\n",
    "print(\"\\n ::::\")\n",
    "print(\"Number of expert graphic tablet participants:\", hasExpWTablet)\n",
    "print(\"Percentage of expert graphic tablet participants\",\n",
    "      round(hasExpWTablet * 1.0 / len(participants), 3), '%'\n",
    "    )\n"
   ]
  },
  {
   "cell_type": "markdown",
   "metadata": {},
   "source": [
    "# Average drawing time for each curve on each input device"
   ]
  },
  {
   "cell_type": "code",
   "execution_count": 108,
   "metadata": {},
   "outputs": [
    {
     "name": "stdout",
     "output_type": "stream",
     "text": [
      "----------------- MODE: 0\n",
      "::: Mouse :::\n",
      "--> Function:  0\n",
      "\t Cartesian :  7.1814574666111115\n",
      "\t Polar :  19.391459081388888\n",
      "\n",
      "--> Function:  1\n",
      "\t Cartesian :  12.435337980555554\n",
      "\t Polar :  20.108133925555553\n",
      "\n",
      "--> Function:  2\n",
      "\t Cartesian :  27.137250238333333\n",
      "\t Polar :  20.934750820500003\n",
      "\n",
      "--> Function:  3\n",
      "\t Cartesian :  32.89476863444444\n",
      "\t Polar :  25.094222718333338\n",
      "\n",
      "--> Function:  4\n",
      "\t Cartesian :  34.909072464999994\n",
      "\t Polar :  36.12482166277778\n",
      "\n",
      "--> Function:  5\n",
      "\t Cartesian :  39.94069378888889\n",
      "\t Polar :  34.14002531166667\n",
      "\n",
      "::: Graphic tablet :::\n",
      "--> Function:  0\n",
      "\t Cartesian :  8.1507682935\n",
      "\t Polar :  21.083509617055554\n",
      "\n",
      "--> Function:  1\n",
      "\t Cartesian :  14.871144560277779\n",
      "\t Polar :  23.20204076444444\n",
      "\n",
      "--> Function:  2\n",
      "\t Cartesian :  32.821063253333335\n",
      "\t Polar :  21.430832320555556\n",
      "\n",
      "--> Function:  3\n",
      "\t Cartesian :  33.56397346666667\n",
      "\t Polar :  25.050273642777782\n",
      "\n",
      "--> Function:  4\n",
      "\t Cartesian :  38.68129673388889\n",
      "\t Polar :  39.00965787277778\n",
      "\n",
      "--> Function:  5\n",
      "\t Cartesian :  45.448440631666664\n",
      "\t Polar :  34.45990155833333\n",
      "\n",
      "----------------- MODE: 1\n",
      "::: Mouse :::\n",
      "--> Function:  0\n",
      "\t Cartesian :  9.135730147277778\n",
      "\t Polar :  16.903094159166663\n",
      "\n",
      "--> Function:  1\n",
      "\t Cartesian :  7.418750140333334\n",
      "\t Polar :  15.53024058816667\n",
      "\n",
      "--> Function:  2\n",
      "\t Cartesian :  21.927663656666667\n",
      "\t Polar :  18.699053155000005\n",
      "\n",
      "--> Function:  3\n",
      "\t Cartesian :  20.369192573333336\n",
      "\t Polar :  18.59446238277778\n",
      "\n",
      "--> Function:  4\n",
      "\t Cartesian :  33.00867447611111\n",
      "\t Polar :  30.374508485555552\n",
      "\n",
      "--> Function:  5\n",
      "\t Cartesian :  29.067450232222217\n",
      "\t Polar :  30.477881325000006\n",
      "\n",
      "::: Graphic tablet :::\n",
      "--> Function:  0\n",
      "\t Cartesian :  10.052888552111112\n",
      "\t Polar :  18.635927623555553\n",
      "\n",
      "--> Function:  1\n",
      "\t Cartesian :  9.438185890944444\n",
      "\t Polar :  18.987122707333338\n",
      "\n",
      "--> Function:  2\n",
      "\t Cartesian :  25.71406820055555\n",
      "\t Polar :  21.120255525\n",
      "\n",
      "--> Function:  3\n",
      "\t Cartesian :  21.127788701666667\n",
      "\t Polar :  20.547526372777774\n",
      "\n",
      "--> Function:  4\n",
      "\t Cartesian :  38.43657347777778\n",
      "\t Polar :  33.815715724444445\n",
      "\n",
      "--> Function:  5\n",
      "\t Cartesian :  31.028658985555555\n",
      "\t Polar :  34.55661159111111\n",
      "\n"
     ]
    }
   ],
   "source": [
    "def getAvgForFunc(projection, funcId, device, test = 0):\n",
    "    # filter out by projection, Cartesian or Polar\n",
    "    drawingTimes = df[df['Function projection'] == projection]\n",
    "    # filter out by function ID\n",
    "    drawingTimes = drawingTimes[drawingTimes['Function ID'] == funcId]\n",
    "    # filter out test\n",
    "    drawingTimes = drawingTimes[drawingTimes['Test mode'] == test]\n",
    "    # filter out by device\n",
    "    drawingTimes = drawingTimes[drawingTimes['Device'] == device]\n",
    "    drawingTimes = drawingTimes['Drawing time'].values\n",
    "    \n",
    "    dtSum = 0.0\n",
    "    \n",
    "    for dt in drawingTimes:\n",
    "        dtSum += dt\n",
    "    \n",
    "    avg = dtSum * 1.0 / len(drawingTimes)\n",
    "    \n",
    "    return avg\n",
    "\n",
    "for mode in testModes:\n",
    "    print(\"----------------- MODE:\", mode)\n",
    "    for device in devices:\n",
    "        print(\":::\", device, \":::\")\n",
    "        for funcId in funcIds:\n",
    "            print(\"--> Function: \", funcId)\n",
    "            for projection in projections:\n",
    "                avg = getAvgForFunc(projection, funcId, device, mode)\n",
    "                print(\"\\t\", projection, \": \", avg)\n",
    "            print()"
   ]
  },
  {
   "cell_type": "code",
   "execution_count": null,
   "metadata": {},
   "outputs": [],
   "source": []
  }
 ],
 "metadata": {
  "kernelspec": {
   "display_name": "Python 3",
   "language": "python",
   "name": "python3"
  },
  "language_info": {
   "codemirror_mode": {
    "name": "ipython",
    "version": 3
   },
   "file_extension": ".py",
   "mimetype": "text/x-python",
   "name": "python",
   "nbconvert_exporter": "python",
   "pygments_lexer": "ipython3",
   "version": "3.8.5"
  }
 },
 "nbformat": 4,
 "nbformat_minor": 4
}
