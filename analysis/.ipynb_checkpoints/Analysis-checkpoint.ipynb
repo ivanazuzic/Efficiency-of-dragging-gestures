{
 "cells": [
  {
   "cell_type": "markdown",
   "metadata": {},
   "source": [
    "# Loading the data"
   ]
  },
  {
   "cell_type": "code",
   "execution_count": 11,
   "metadata": {},
   "outputs": [
    {
     "name": "stdout",
     "output_type": "stream",
     "text": [
      "Columns: Index(['Name', 'Age', 'Device', 'Timestamp', 'ID_krivulje', 'Difficulty',\n",
      "       'Vrijeme_crtanja_ms', 'Greška', 'Experiment_mode'],\n",
      "      dtype='object')\n",
      "Index: RangeIndex(start=0, stop=1944, step=1)\n",
      "Values: [['ErikOtovic' 23 'Mouse' ... 14.54292202 184.353495 0]\n",
      " ['ErikOtovic' 23 'Mouse' ... 8.890750647 74.8199413 0]\n",
      " ['ErikOtovic' 23 'Mouse' ... 4.869660139 23.36091737 0]\n",
      " ...\n",
      " ['KarloZirovec' 23 'Trackpad' ... 6.184081316 17.12721461 1]\n",
      " ['KarloZirovec' 23 'Trackpad' ... 12.75458765 78.76959291 1]\n",
      " ['JosipaRaspor2' 22 'Graphic tablet' ... 9.364593029 17.22503729 1]]\n"
     ]
    }
   ],
   "source": [
    "import numpy as np\n",
    "from sklearn.linear_model import LinearRegression\n",
    "import pandas as pd\n",
    "import matplotlib.pyplot as plt\n",
    "\n",
    "ALL_DEVICES = ['Mouse', 'Trackpad', 'Graphic tablet']\n",
    "\n",
    "df = pd.read_csv('CSVs/Efficiency_of_dragging_gestures_revised - Participants_data.csv')\n",
    "print(\"Columns:\", df.columns)\n",
    "print(\"Index:\", df.index)\n",
    "print(\"Values:\", df.values)"
   ]
  },
  {
   "cell_type": "markdown",
   "metadata": {},
   "source": [
    "# Getting the data from experiments 1 and 2"
   ]
  },
  {
   "cell_type": "code",
   "execution_count": 12,
   "metadata": {},
   "outputs": [],
   "source": [
    "is_exp_1 = df['Experiment_mode'] == 0\n",
    "exp_1_data = df[is_exp_1]\n",
    "\n",
    "is_exp_2 = df['Experiment_mode'] == 1\n",
    "exp_2_data = df[is_exp_2]"
   ]
  },
  {
   "cell_type": "markdown",
   "metadata": {},
   "source": [
    "# Extracting all the usernmes"
   ]
  },
  {
   "cell_type": "code",
   "execution_count": 20,
   "metadata": {},
   "outputs": [
    {
     "name": "stdout",
     "output_type": "stream",
     "text": [
      "['JakovTomasic', 'filipcendak', 'StellaDumencic', 'borisgasparovic', 'lenanovak', 'ErikOtovic', 'JosipaRaspor', 'stjepanobad', 'MarinKupanovac', 'MarkoNjirjak', 'KarloZirovec', 'petrahrelic', 'DianaVicanAjdinović', 'DinoKralj', 'MatejDuvnjak', 'sandiljubic', 'josipmilotic', 'LorisRaspolic'] 18\n"
     ]
    }
   ],
   "source": [
    "all_users = exp_1_data['Name']\n",
    "all_users = list(set(all_users))\n",
    "print(all_users, len(all_users))"
   ]
  },
  {
   "cell_type": "markdown",
   "metadata": {},
   "source": [
    "# Getting the average drawing time for each curve on each input device"
   ]
  },
  {
   "cell_type": "code",
   "execution_count": 44,
   "metadata": {},
   "outputs": [
    {
     "name": "stdout",
     "output_type": "stream",
     "text": [
      "Mouse\n",
      "Curve: 0\n",
      "5.774200064092593\n",
      "\n",
      "Curve: 1\n",
      "6.33342154362963\n",
      "\n",
      "Curve: 2\n",
      "10.877706289981482\n",
      "\n",
      "Curve: 3\n",
      "13.339283713259256\n",
      "\n",
      "Curve: 4\n",
      "20.959054090944445\n",
      "\n",
      "Curve: 5\n",
      "25.017264273814813\n",
      "\n",
      "------------\n",
      "Trackpad\n",
      "Curve: 0\n",
      "8.324374375666666\n",
      "\n",
      "Curve: 1\n",
      "9.411882011851851\n",
      "\n",
      "Curve: 2\n",
      "15.53054383064815\n",
      "\n",
      "Curve: 3\n",
      "18.3152241142963\n",
      "\n",
      "Curve: 4\n",
      "29.245614855740737\n",
      "\n",
      "Curve: 5\n",
      "35.276691269814805\n",
      "\n",
      "------------\n",
      "Graphic tablet\n",
      "Curve: 0\n",
      "6.6121097228518515\n",
      "\n",
      "Curve: 1\n",
      "7.29774173562963\n",
      "\n",
      "Curve: 2\n",
      "12.440887362425922\n",
      "\n",
      "Curve: 3\n",
      "14.08429167448148\n",
      "\n",
      "Curve: 4\n",
      "22.714729975555553\n",
      "\n",
      "Curve: 5\n",
      "26.751559247962962\n",
      "\n",
      "------------\n"
     ]
    }
   ],
   "source": [
    "# iterating through devices\n",
    "for device in ALL_DEVICES:\n",
    "    \n",
    "    print(device)\n",
    "    \n",
    "    # a list for average times spent on drawing each of the curves from the 1st experiment on the current device \n",
    "    per_curve_avg = np.zeros(6)\n",
    "    \n",
    "    # getting only the data from the first experiment using the current device\n",
    "    is_current_device = exp_1_data['Device'] == device\n",
    "    current_device_data = exp_1_data[is_current_device]\n",
    "    \n",
    "    # iterating through the curves\n",
    "    for i in range(6): \n",
    "        print(\"Curve:\", i)\n",
    "        # taking only the data for the current curve i from the previously filtered data (using the current device)\n",
    "        is_current_curve = current_device_data['ID_krivulje'] == i\n",
    "        current_curve_data = current_device_data[is_current_curve]\n",
    "\n",
    "        # a list of average times for each user drawing a specific curve i on a curreent device\n",
    "        per_user_avgs = []\n",
    "\n",
    "        # going through a list of all users\n",
    "        for user in all_users:\n",
    "            is_by_user = current_curve_data['Name'] == user\n",
    "            current_curve_by_user = current_curve_data[is_by_user]\n",
    "            # print(len(current_curve_by_user))\n",
    "\n",
    "            #print(current_curve_by_user['Vrijeme_crtanja_ms'])\n",
    "            \n",
    "            #calculating the avg drawing time of the current user(drawing the current curve on the current device)\n",
    "            avg_time_for_curve_by_user = 0\n",
    "            num_records = 0\n",
    "            for time_ms in current_curve_by_user['Vrijeme_crtanja_ms']:\n",
    "                avg_time_for_curve_by_user += time_ms\n",
    "                num_records += 1\n",
    "                \n",
    "            if num_records > 0:\n",
    "                avg_time_for_curve_by_user /= num_records\n",
    "                \n",
    "            if avg_time_for_curve_by_user > 0:\n",
    "                per_user_avgs.append(avg_time_for_curve_by_user)\n",
    "        # print([round(avg, 2) for avg in per_user_avgs])\n",
    "\n",
    "        per_curve_avg[i] = sum(per_user_avgs) / len(per_user_avgs)\n",
    "        print(per_curve_avg[i])\n",
    "        print()\n",
    "    print('------------')"
   ]
  },
  {
   "cell_type": "markdown",
   "metadata": {},
   "source": [
    "# Getting the average drawing time for each user on each input device"
   ]
  },
  {
   "cell_type": "code",
   "execution_count": 61,
   "metadata": {},
   "outputs": [
    {
     "name": "stdout",
     "output_type": "stream",
     "text": [
      "JakovTomasic\n",
      "{'Mouse': 20.447635914833327, 'Trackpad': 35.90940860888889, 'Graphic tablet': 26.794945200555553}\n",
      "------------\n",
      "filipcendak\n",
      "{'Mouse': 16.334124180722224, 'Trackpad': 22.529985984833335, 'Graphic tablet': 19.828284594722223}\n",
      "------------\n",
      "StellaDumencic\n",
      "{'Mouse': 11.796536578555555, 'Trackpad': 16.34256789377778, 'Graphic tablet': 11.071817477111113}\n",
      "------------\n",
      "borisgasparovic\n",
      "{'Mouse': 8.014748719333333, 'Trackpad': 8.518756721111112, 'Graphic tablet': 10.554787291055556}\n",
      "------------\n",
      "lenanovak\n",
      "{'Mouse': 11.815488086833334, 'Trackpad': 15.434421619611113, 'Graphic tablet': 12.98577525811111}\n",
      "------------\n",
      "ErikOtovic\n",
      "{'Mouse': 10.94634747511111, 'Trackpad': 14.416039665777776, 'Graphic tablet': 10.742398526833334}\n",
      "------------\n",
      "JosipaRaspor\n",
      "{'Mouse': 8.71136735622222, 'Trackpad': 15.683365861833332, 'Graphic tablet': 12.698434233944445}\n",
      "------------\n",
      "stjepanobad\n",
      "{'Mouse': 14.846564279833334, 'Trackpad': 20.6493198215, 'Graphic tablet': 11.813218063722223}\n",
      "------------\n",
      "MarinKupanovac\n",
      "{'Mouse': 15.48619046466667, 'Trackpad': 18.203418693722224, 'Graphic tablet': 14.437944531111112}\n",
      "------------\n",
      "MarkoNjirjak\n",
      "{'Mouse': 13.622848471722223, 'Trackpad': 22.113633129166665, 'Graphic tablet': 19.571527188833333}\n",
      "------------\n",
      "KarloZirovec\n",
      "{'Mouse': 14.59041451077778, 'Trackpad': 15.409294367388888, 'Graphic tablet': 12.633448627333332}\n",
      "------------\n",
      "petrahrelic\n",
      "{'Mouse': 9.003068050444446, 'Trackpad': 11.354831708499999, 'Graphic tablet': 16.222064680555555}\n",
      "------------\n",
      "DianaVicanAjdinović\n",
      "{'Mouse': 14.183804181222223, 'Trackpad': 22.93503671205556, 'Graphic tablet': 13.21155507}\n",
      "------------\n",
      "DinoKralj\n",
      "{'Mouse': 33.29056248311111, 'Trackpad': 40.358547488333336, 'Graphic tablet': 26.53699384833333}\n",
      "------------\n",
      "MatejDuvnjak\n",
      "{'Mouse': 11.134340405388889, 'Trackpad': 15.358356503388885, 'Graphic tablet': 15.6238891935}\n",
      "------------\n",
      "sandiljubic\n",
      "{'Mouse': 6.308705661333333, 'Trackpad': 10.50412091911111, 'Graphic tablet': 6.930213080777778}\n",
      "------------\n",
      "josipmilotic\n",
      "{'Mouse': 14.245716651944443, 'Trackpad': 26.204964943722224, 'Graphic tablet': 15.300944460555554}\n",
      "------------\n",
      "LorisRaspolic\n",
      "{'Mouse': 12.12432645511111, 'Trackpad': 16.386920731333333, 'Graphic tablet': 12.745717829666667}\n",
      "------------\n",
      "        Mouse   Trackpad  Graphic tablet\n",
      "0   20.447636  35.909409       26.794945\n",
      "1   16.334124  22.529986       19.828285\n",
      "2   11.796537  16.342568       11.071817\n",
      "3    8.014749   8.518757       10.554787\n",
      "4   11.815488  15.434422       12.985775\n",
      "5   10.946347  14.416040       10.742399\n",
      "6    8.711367  15.683366       12.698434\n",
      "7   14.846564  20.649320       11.813218\n",
      "8   15.486190  18.203419       14.437945\n",
      "9   13.622848  22.113633       19.571527\n",
      "10  14.590415  15.409294       12.633449\n",
      "11   9.003068  11.354832       16.222065\n",
      "12  14.183804  22.935037       13.211555\n",
      "13  33.290562  40.358547       26.536994\n",
      "14  11.134340  15.358357       15.623889\n",
      "15   6.308706  10.504121        6.930213\n",
      "16  14.245717  26.204965       15.300944\n",
      "17  12.124326  16.386921       12.745718\n"
     ]
    }
   ],
   "source": [
    "# going through a list of all users\n",
    "ANOVA_data = {'Mouse': [], 'Trackpad': [], 'Graphic tablet': []}\n",
    "for user in all_users:\n",
    "    \n",
    "    print(user)\n",
    "    MT_per_device = {}\n",
    "    \n",
    "    # filtering by username\n",
    "    is_by_user = exp_1_data['Name'] == user\n",
    "    data_by_user = exp_1_data[is_by_user]\n",
    "    \n",
    "    # iterating through devices\n",
    "    for device in ALL_DEVICES:\n",
    "        is_on_device = data_by_user['Device'] == device\n",
    "        data_by_user_on_device = data_by_user[is_on_device]\n",
    "        \n",
    "        #print(data_by_user_on_device['Vrijeme_crtanja_ms'])\n",
    "        #print(\"%-20s %.6f\" % (device, data_by_user_on_device['Vrijeme_crtanja_ms'].mean()))\n",
    "        \n",
    "        MT_per_device[device] = data_by_user_on_device['Vrijeme_crtanja_ms'].mean()\n",
    "        \n",
    "        ANOVA_data[device].append(data_by_user_on_device['Vrijeme_crtanja_ms'].mean())\n",
    "    print(MT_per_device)\n",
    "    print('------------')\n",
    "\n",
    "ANOVA_df = pd.DataFrame(data=ANOVA_data)\n",
    "print(ANOVA_df)"
   ]
  },
  {
   "cell_type": "markdown",
   "metadata": {},
   "source": [
    "# One-way ANOVA"
   ]
  },
  {
   "cell_type": "markdown",
   "metadata": {},
   "source": [
    "# Example code"
   ]
  },
  {
   "cell_type": "code",
   "execution_count": 70,
   "metadata": {},
   "outputs": [
    {
     "data": {
      "text/html": [
       "<div>\n",
       "<style scoped>\n",
       "    .dataframe tbody tr th:only-of-type {\n",
       "        vertical-align: middle;\n",
       "    }\n",
       "\n",
       "    .dataframe tbody tr th {\n",
       "        vertical-align: top;\n",
       "    }\n",
       "\n",
       "    .dataframe thead th {\n",
       "        text-align: right;\n",
       "    }\n",
       "</style>\n",
       "<table border=\"1\" class=\"dataframe\">\n",
       "  <thead>\n",
       "    <tr style=\"text-align: right;\">\n",
       "      <th></th>\n",
       "      <th>A</th>\n",
       "      <th>B</th>\n",
       "      <th>mean(A)</th>\n",
       "      <th>mean(B)</th>\n",
       "      <th>diff</th>\n",
       "      <th>se</th>\n",
       "      <th>tail</th>\n",
       "      <th>T</th>\n",
       "      <th>p-tukey</th>\n",
       "      <th>hedges</th>\n",
       "    </tr>\n",
       "  </thead>\n",
       "  <tbody>\n",
       "    <tr>\n",
       "      <th>0</th>\n",
       "      <td>Dark Blond</td>\n",
       "      <td>Dark Brunette</td>\n",
       "      <td>51.2</td>\n",
       "      <td>37.4</td>\n",
       "      <td>13.8</td>\n",
       "      <td>5.169</td>\n",
       "      <td>two-sided</td>\n",
       "      <td>2.670</td>\n",
       "      <td>0.047669</td>\n",
       "      <td>1.525</td>\n",
       "    </tr>\n",
       "    <tr>\n",
       "      <th>1</th>\n",
       "      <td>Dark Blond</td>\n",
       "      <td>Light Blond</td>\n",
       "      <td>51.2</td>\n",
       "      <td>59.2</td>\n",
       "      <td>-8.0</td>\n",
       "      <td>5.169</td>\n",
       "      <td>two-sided</td>\n",
       "      <td>-1.548</td>\n",
       "      <td>0.413347</td>\n",
       "      <td>-0.884</td>\n",
       "    </tr>\n",
       "    <tr>\n",
       "      <th>2</th>\n",
       "      <td>Dark Blond</td>\n",
       "      <td>Light Brunette</td>\n",
       "      <td>51.2</td>\n",
       "      <td>42.5</td>\n",
       "      <td>8.7</td>\n",
       "      <td>5.482</td>\n",
       "      <td>two-sided</td>\n",
       "      <td>1.587</td>\n",
       "      <td>0.391355</td>\n",
       "      <td>0.946</td>\n",
       "    </tr>\n",
       "    <tr>\n",
       "      <th>3</th>\n",
       "      <td>Dark Brunette</td>\n",
       "      <td>Light Blond</td>\n",
       "      <td>37.4</td>\n",
       "      <td>59.2</td>\n",
       "      <td>-21.8</td>\n",
       "      <td>5.169</td>\n",
       "      <td>two-sided</td>\n",
       "      <td>-4.218</td>\n",
       "      <td>0.001000</td>\n",
       "      <td>-2.409</td>\n",
       "    </tr>\n",
       "    <tr>\n",
       "      <th>4</th>\n",
       "      <td>Dark Brunette</td>\n",
       "      <td>Light Brunette</td>\n",
       "      <td>37.4</td>\n",
       "      <td>42.5</td>\n",
       "      <td>-5.1</td>\n",
       "      <td>5.482</td>\n",
       "      <td>two-sided</td>\n",
       "      <td>-0.930</td>\n",
       "      <td>0.759121</td>\n",
       "      <td>-0.555</td>\n",
       "    </tr>\n",
       "    <tr>\n",
       "      <th>5</th>\n",
       "      <td>Light Blond</td>\n",
       "      <td>Light Brunette</td>\n",
       "      <td>59.2</td>\n",
       "      <td>42.5</td>\n",
       "      <td>16.7</td>\n",
       "      <td>5.482</td>\n",
       "      <td>two-sided</td>\n",
       "      <td>3.046</td>\n",
       "      <td>0.017775</td>\n",
       "      <td>1.816</td>\n",
       "    </tr>\n",
       "  </tbody>\n",
       "</table>\n",
       "</div>"
      ],
      "text/plain": [
       "               A               B  mean(A)  mean(B)  diff     se       tail  \\\n",
       "0     Dark Blond   Dark Brunette     51.2     37.4  13.8  5.169  two-sided   \n",
       "1     Dark Blond     Light Blond     51.2     59.2  -8.0  5.169  two-sided   \n",
       "2     Dark Blond  Light Brunette     51.2     42.5   8.7  5.482  two-sided   \n",
       "3  Dark Brunette     Light Blond     37.4     59.2 -21.8  5.169  two-sided   \n",
       "4  Dark Brunette  Light Brunette     37.4     42.5  -5.1  5.482  two-sided   \n",
       "5    Light Blond  Light Brunette     59.2     42.5  16.7  5.482  two-sided   \n",
       "\n",
       "       T   p-tukey  hedges  \n",
       "0  2.670  0.047669   1.525  \n",
       "1 -1.548  0.413347  -0.884  \n",
       "2  1.587  0.391355   0.946  \n",
       "3 -4.218  0.001000  -2.409  \n",
       "4 -0.930  0.759121  -0.555  \n",
       "5  3.046  0.017775   1.816  "
      ]
     },
     "execution_count": 70,
     "metadata": {},
     "output_type": "execute_result"
    }
   ],
   "source": [
    "import pingouin as pg\n",
    "\n",
    "# Load an example dataset comparing pain threshold as a function of hair color\n",
    "df = pg.read_dataset('anova')\n",
    "\n",
    "# 1. This is a between subject design, so the first step is to test for equality of variances\n",
    "groups = df['Hair color'].unique()\n",
    "a, b, c, d = [df.groupby('Hair color')['Pain threshold'].get_group(g).values for g in groups]\n",
    "# equal_var, pval = pg.homoscedasticity(a, b, c, d)\n",
    "\n",
    "# 2. If the groups have equal variances, we can use a regular one-way ANOVA\n",
    "pg.anova(data=df, dv='Pain threshold', between='Hair color')\n",
    "\n",
    "# 3. If there is a main effect, we can proceed to post-hoc Tukey test\n",
    "pg.pairwise_tukey(data=df, dv='Pain threshold', between='Hair color')"
   ]
  },
  {
   "cell_type": "code",
   "execution_count": 71,
   "metadata": {},
   "outputs": [
    {
     "ename": "ValueError",
     "evalue": "DV and data must be specified",
     "output_type": "error",
     "traceback": [
      "\u001b[0;31m---------------------------------------------------------------------------\u001b[0m",
      "\u001b[0;31mValueError\u001b[0m                                Traceback (most recent call last)",
      "\u001b[0;32m<ipython-input-71-6b23cd22f71a>\u001b[0m in \u001b[0;36m<module>\u001b[0;34m\u001b[0m\n\u001b[1;32m      2\u001b[0m \u001b[0;34m\u001b[0m\u001b[0m\n\u001b[1;32m      3\u001b[0m \u001b[0;31m# Run the ANOVA\u001b[0m\u001b[0;34m\u001b[0m\u001b[0;34m\u001b[0m\u001b[0;34m\u001b[0m\u001b[0m\n\u001b[0;32m----> 4\u001b[0;31m \u001b[0maov\u001b[0m \u001b[0;34m=\u001b[0m \u001b[0mpg\u001b[0m\u001b[0;34m.\u001b[0m\u001b[0manova\u001b[0m\u001b[0;34m(\u001b[0m\u001b[0mdata\u001b[0m\u001b[0;34m=\u001b[0m\u001b[0mANOVA_df\u001b[0m\u001b[0;34m,\u001b[0m \u001b[0mbetween\u001b[0m\u001b[0;34m=\u001b[0m\u001b[0;34m'Group'\u001b[0m\u001b[0;34m,\u001b[0m \u001b[0mdetailed\u001b[0m\u001b[0;34m=\u001b[0m\u001b[0;32mTrue\u001b[0m\u001b[0;34m)\u001b[0m\u001b[0;34m\u001b[0m\u001b[0;34m\u001b[0m\u001b[0m\n\u001b[0m\u001b[1;32m      5\u001b[0m \u001b[0mprint\u001b[0m\u001b[0;34m(\u001b[0m\u001b[0maov\u001b[0m\u001b[0;34m)\u001b[0m\u001b[0;34m\u001b[0m\u001b[0;34m\u001b[0m\u001b[0m\n",
      "\u001b[0;32m~/anaconda3/envs/NKS/lib/python3.6/site-packages/pingouin/parametric.py\u001b[0m in \u001b[0;36manova\u001b[0;34m(data, dv, between, ss_type, detailed)\u001b[0m\n\u001b[1;32m    941\u001b[0m \u001b[0;34m\u001b[0m\u001b[0m\n\u001b[1;32m    942\u001b[0m     \u001b[0;31m# Check data\u001b[0m\u001b[0;34m\u001b[0m\u001b[0;34m\u001b[0m\u001b[0;34m\u001b[0m\u001b[0m\n\u001b[0;32m--> 943\u001b[0;31m     \u001b[0m_check_dataframe\u001b[0m\u001b[0;34m(\u001b[0m\u001b[0mdv\u001b[0m\u001b[0;34m=\u001b[0m\u001b[0mdv\u001b[0m\u001b[0;34m,\u001b[0m \u001b[0mbetween\u001b[0m\u001b[0;34m=\u001b[0m\u001b[0mbetween\u001b[0m\u001b[0;34m,\u001b[0m \u001b[0mdata\u001b[0m\u001b[0;34m=\u001b[0m\u001b[0mdata\u001b[0m\u001b[0;34m,\u001b[0m \u001b[0meffects\u001b[0m\u001b[0;34m=\u001b[0m\u001b[0;34m'between'\u001b[0m\u001b[0;34m)\u001b[0m\u001b[0;34m\u001b[0m\u001b[0;34m\u001b[0m\u001b[0m\n\u001b[0m\u001b[1;32m    944\u001b[0m \u001b[0;34m\u001b[0m\u001b[0m\n\u001b[1;32m    945\u001b[0m     \u001b[0;31m# Drop missing values\u001b[0m\u001b[0;34m\u001b[0m\u001b[0;34m\u001b[0m\u001b[0;34m\u001b[0m\u001b[0m\n",
      "\u001b[0;32m~/anaconda3/envs/NKS/lib/python3.6/site-packages/pingouin/utils.py\u001b[0m in \u001b[0;36m_check_dataframe\u001b[0;34m(data, dv, between, within, subject, effects)\u001b[0m\n\u001b[1;32m    334\u001b[0m     \u001b[0;31m# Check that both dv and data are provided.\u001b[0m\u001b[0;34m\u001b[0m\u001b[0;34m\u001b[0m\u001b[0;34m\u001b[0m\u001b[0m\n\u001b[1;32m    335\u001b[0m     \u001b[0;32mif\u001b[0m \u001b[0many\u001b[0m\u001b[0;34m(\u001b[0m\u001b[0mv\u001b[0m \u001b[0;32mis\u001b[0m \u001b[0;32mNone\u001b[0m \u001b[0;32mfor\u001b[0m \u001b[0mv\u001b[0m \u001b[0;32min\u001b[0m \u001b[0;34m[\u001b[0m\u001b[0mdv\u001b[0m\u001b[0;34m,\u001b[0m \u001b[0mdata\u001b[0m\u001b[0;34m]\u001b[0m\u001b[0;34m)\u001b[0m\u001b[0;34m:\u001b[0m\u001b[0;34m\u001b[0m\u001b[0;34m\u001b[0m\u001b[0m\n\u001b[0;32m--> 336\u001b[0;31m         \u001b[0;32mraise\u001b[0m \u001b[0mValueError\u001b[0m\u001b[0;34m(\u001b[0m\u001b[0;34m'DV and data must be specified'\u001b[0m\u001b[0;34m)\u001b[0m\u001b[0;34m\u001b[0m\u001b[0;34m\u001b[0m\u001b[0m\n\u001b[0m\u001b[1;32m    337\u001b[0m     \u001b[0;31m# Check that dv is a numeric variable\u001b[0m\u001b[0;34m\u001b[0m\u001b[0;34m\u001b[0m\u001b[0;34m\u001b[0m\u001b[0m\n\u001b[1;32m    338\u001b[0m     \u001b[0;32mif\u001b[0m \u001b[0mdata\u001b[0m\u001b[0;34m[\u001b[0m\u001b[0mdv\u001b[0m\u001b[0;34m]\u001b[0m\u001b[0;34m.\u001b[0m\u001b[0mdtype\u001b[0m\u001b[0;34m.\u001b[0m\u001b[0mkind\u001b[0m \u001b[0;32mnot\u001b[0m \u001b[0;32min\u001b[0m \u001b[0;34m'fi'\u001b[0m\u001b[0;34m:\u001b[0m\u001b[0;34m\u001b[0m\u001b[0;34m\u001b[0m\u001b[0m\n",
      "\u001b[0;31mValueError\u001b[0m: DV and data must be specified"
     ]
    }
   ],
   "source": [
    "import pingouin as pg \n",
    "\n",
    "# Run the ANOVA\n",
    "aov = pg.anova(data=ANOVA_df, dv='Scores', between='Group', detailed=True)\n",
    "print(aov)"
   ]
  },
  {
   "cell_type": "code",
   "execution_count": null,
   "metadata": {},
   "outputs": [],
   "source": []
  },
  {
   "cell_type": "code",
   "execution_count": 56,
   "metadata": {},
   "outputs": [
    {
     "name": "stdout",
     "output_type": "stream",
     "text": [
      "[13.71682166262037, 19.350721743003092, 14.983553286484566]\n"
     ]
    }
   ],
   "source": [
    "mean_per_column = [0 for i in ALL_DEVICES]\n",
    "\n",
    "num_records = 0\n",
    "for data in ANOVA_data:\n",
    "    \n",
    "    num_records +=1\n",
    "    for i in range(len(ALL_DEVICES)):\n",
    "        device = ALL_DEVICES[i]\n",
    "        mean_per_column[i] += data[device]\n",
    "\n",
    "print([i/num_records for i in mean_per_column])\n",
    "\n"
   ]
  },
  {
   "cell_type": "markdown",
   "metadata": {},
   "source": [
    "# Regression"
   ]
  },
  {
   "cell_type": "markdown",
   "metadata": {},
   "source": [
    "## Example of regression"
   ]
  },
  {
   "cell_type": "code",
   "execution_count": 7,
   "metadata": {},
   "outputs": [
    {
     "name": "stdout",
     "output_type": "stream",
     "text": [
      "[ 6  3  2 -1  0]\n",
      "[ 6  3  2 -1  0]\n",
      "0.8533333333333334\n",
      "[-1.6]\n",
      "6.8\n",
      "[0.4]\n"
     ]
    }
   ],
   "source": [
    "\n",
    "X = np.array([[1], [2], [3], [4], [5]])\n",
    "y = np.array([6, 3, 2, -1, 0])\n",
    "print(y)\n",
    "reg = LinearRegression().fit(X, y)\n",
    "print(y)\n",
    "print(reg.score(X, y))\n",
    "print(reg.coef_)\n",
    "print(reg.intercept_)\n",
    "print(reg.predict(np.array([[4]])))"
   ]
  },
  {
   "cell_type": "code",
   "execution_count": 8,
   "metadata": {},
   "outputs": [
    {
     "name": "stdout",
     "output_type": "stream",
     "text": [
      "[ 0.   2.5  5.   7.5 10. ] [ 6.8  2.8 -1.2 -5.2 -9.2]\n"
     ]
    },
    {
     "data": {
      "image/png": "[encoded data removed]",
      "text/plain": [
       "<Figure size 432x288 with 1 Axes>"
      ]
     },
     "metadata": {},
     "output_type": "display_data"
    }
   ],
   "source": [
    "x = np.linspace(0, 10, num=5)\n",
    "y_predict = reg.predict(np.array([[i] for i in x]))\n",
    "print(x, y_predict)\n",
    "\n",
    "\n",
    "plt.scatter(X, y,  color='black')\n",
    "plt.plot(X, y, color='blue', linewidth=3)\n",
    "plt.plot(x, y_predict, color='red', linewidth=1)\n",
    "\n",
    "plt.xticks(())\n",
    "plt.yticks(())\n",
    "\n",
    "plt.show()\n"
   ]
  },
  {
   "cell_type": "markdown",
   "metadata": {},
   "source": [
    "## Regression on our data"
   ]
  },
  {
   "cell_type": "markdown",
   "metadata": {},
   "source": [
    "## Getting the regression line"
   ]
  },
  {
   "cell_type": "code",
   "execution_count": 9,
   "metadata": {},
   "outputs": [
    {
     "name": "stdout",
     "output_type": "stream",
     "text": [
      "[[1]\n",
      " [2]\n",
      " [3]\n",
      " [4]\n",
      " [5]\n",
      " [6]]\n",
      "[0. 0. 0. 0. 0. 0.]\n",
      "------------------------------\n",
      "[0.         1.16666667 2.33333333 3.5        4.66666667 5.83333333\n",
      " 7.        ]\n",
      "[0. 0. 0. 0. 0. 0. 0.]\n"
     ]
    },
    {
     "data": {
      "image/png": "[encoded data removed]",
      "text/plain": [
       "<Figure size 432x288 with 1 Axes>"
      ]
     },
     "metadata": {},
     "output_type": "display_data"
    }
   ],
   "source": [
    "X = np.array([[i] for i in range(1, 7)])\n",
    "y = np.array([i for i in per_curve_avg])\n",
    "print(X)\n",
    "print(y)\n",
    "reg = LinearRegression().fit(X, y)\n",
    "\n",
    "print(\"-\" * 30)\n",
    "x = np.linspace(0, 7, num=7)\n",
    "y_predict = reg.predict(np.array([[i] for i in x]))\n",
    "print(x)\n",
    "print(y_predict)\n",
    "\n",
    "\n",
    "plt.scatter(X, y,  color='black')\n",
    "plt.plot(x, y_predict, color='red', linewidth=1)\n",
    "\n",
    "plt.xticks(())\n",
    "plt.yticks(())\n",
    "\n",
    "plt.show()"
   ]
  },
  {
   "cell_type": "markdown",
   "metadata": {},
   "source": [
    "## Calculating the coefficients"
   ]
  },
  {
   "cell_type": "code",
   "execution_count": 10,
   "metadata": {},
   "outputs": [
    {
     "name": "stdout",
     "output_type": "stream",
     "text": [
      "y = 0.00 * x + 0.00\n"
     ]
    }
   ],
   "source": [
    "x1 = 0\n",
    "x2 = 1\n",
    "y1, y2 = reg.predict(np.array([[x1], [x2]]))\n",
    "# Coefficients: y = ax + b\n",
    "b = y1\n",
    "a = (y2 - y1) / (x2 - x1)\n",
    "print(\"y = %.2f * x + %.2f\" % (a, b))"
   ]
  },
  {
   "cell_type": "markdown",
   "metadata": {},
   "source": [
    "## Error calculation"
   ]
  },
  {
   "cell_type": "code",
   "execution_count": null,
   "metadata": {},
   "outputs": [],
   "source": []
  }
 ],
 "metadata": {
  "kernelspec": {
   "display_name": "Python 3",
   "language": "python",
   "name": "python3"
  },
  "language_info": {
   "codemirror_mode": {
    "name": "ipython",
    "version": 3
   },
   "file_extension": ".py",
   "mimetype": "text/x-python",
   "name": "python",
   "nbconvert_exporter": "python",
   "pygments_lexer": "ipython3",
   "version": "3.8.5"
  }
 },
 "nbformat": 4,
 "nbformat_minor": 4
}
